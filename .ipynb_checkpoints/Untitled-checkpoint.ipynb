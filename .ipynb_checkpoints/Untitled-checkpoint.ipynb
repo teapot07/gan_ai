{
 "cells": [
  {
   "cell_type": "code",
   "execution_count": 10,
   "metadata": {},
   "outputs": [
    {
     "data": {
      "text/plain": [
       "array([[[182, 198, 224],\n",
       "        [183, 197, 223],\n",
       "        [183, 197, 224],\n",
       "        ...,\n",
       "        [102, 141, 220],\n",
       "        [100, 141, 220],\n",
       "        [100, 141, 220]],\n",
       "\n",
       "       [[184, 200, 225],\n",
       "        [185, 199, 225],\n",
       "        [184, 198, 224],\n",
       "        ...,\n",
       "        [103, 142, 221],\n",
       "        [ 99, 140, 219],\n",
       "        [ 99, 140, 219]],\n",
       "\n",
       "       [[185, 201, 226],\n",
       "        [186, 200, 226],\n",
       "        [184, 198, 224],\n",
       "        ...,\n",
       "        [103, 142, 221],\n",
       "        [ 99, 140, 219],\n",
       "        [ 99, 140, 219]],\n",
       "\n",
       "       ...,\n",
       "\n",
       "       [[229, 233, 244],\n",
       "        [146, 125,  80],\n",
       "        [ 50,  51,  20],\n",
       "        ...,\n",
       "        [ 52,  50,  38],\n",
       "        [245, 255, 255],\n",
       "        [108, 112,  95]],\n",
       "\n",
       "       [[255, 254, 234],\n",
       "        [ 88,  73,  44],\n",
       "        [ 43,  31,   5],\n",
       "        ...,\n",
       "        [131, 127, 152],\n",
       "        [229, 236, 244],\n",
       "        [104,  98,  72]],\n",
       "\n",
       "       [[226, 215, 187],\n",
       "        [ 63,  47,  24],\n",
       "        [ 22,   8,   0],\n",
       "        ...,\n",
       "        [237, 239, 251],\n",
       "        [197, 213, 229],\n",
       "        [214, 218, 203]]], dtype=uint8)"
      ]
     },
     "execution_count": 10,
     "metadata": {},
     "output_type": "execute_result"
    }
   ],
   "source": [
    "from PIL import Image\n",
    "import os\n",
    "import glob\n",
    "import numpy as np\n",
    "from sklearn import cross_validation\n",
    "\n",
    "classes = [\"monkey\",\"boar\",\"crow\"]\n",
    "num_classes = len(classes)\n",
    "image_size = 50\n",
    "\n",
    "X = []\n",
    "Y = []\n",
    "for index , clas in enumerate(classes):\n",
    "    photos_dir = clas\n",
    "    files = glob.glob(photos_dir + \"/*.jpg\")\n",
    "    for i ,file in enumerate(files):\n",
    "        if i >=200:break\n",
    "        image = Image.open(file)\n",
    "        image = image.convert(\"RGB\")\n",
    "        image = image.resize((image_size,image_size))\n",
    "        data = np.asarray(image)\n",
    "        X.append(data)\n",
    "        Y.append(index)\n",
    "\n",
    "X = np.array(X)\n",
    "Y = np.array(Y)\n",
    "\n",
    "X[0]\n",
    "\n",
    "\n"
   ]
  },
  {
   "cell_type": "code",
   "execution_count": null,
   "metadata": {},
   "outputs": [],
   "source": []
  },
  {
   "cell_type": "code",
   "execution_count": null,
   "metadata": {},
   "outputs": [],
   "source": []
  }
 ],
 "metadata": {
  "kernelspec": {
   "display_name": "Python 3",
   "language": "python",
   "name": "python3"
  },
  "language_info": {
   "codemirror_mode": {
    "name": "ipython",
    "version": 3
   },
   "file_extension": ".py",
   "mimetype": "text/x-python",
   "name": "python",
   "nbconvert_exporter": "python",
   "pygments_lexer": "ipython3",
   "version": "3.6.6"
  }
 },
 "nbformat": 4,
 "nbformat_minor": 2
}
